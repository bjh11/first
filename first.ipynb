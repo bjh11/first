{
  "nbformat": 4,
  "nbformat_minor": 0,
  "metadata": {
    "colab": {
      "provenance": [],
      "authorship_tag": "ABX9TyObrTHvdBlFvTtIq5+eGTpi",
      "include_colab_link": true
    },
    "kernelspec": {
      "name": "python3",
      "display_name": "Python 3"
    },
    "language_info": {
      "name": "python"
    }
  },
  "cells": [
    {
      "cell_type": "markdown",
      "metadata": {
        "id": "view-in-github",
        "colab_type": "text"
      },
      "source": [
        "<a href=\"https://colab.research.google.com/github/bjh11/first/blob/main/first.ipynb\" target=\"_parent\"><img src=\"https://colab.research.google.com/assets/colab-badge.svg\" alt=\"Open In Colab\"/></a>"
      ]
    },
    {
      "cell_type": "code",
      "execution_count": null,
      "metadata": {
        "colab": {
          "base_uri": "https://localhost:8080/"
        },
        "id": "kvvI9dChKXkN",
        "outputId": "91736055-2cd1-446a-b1d2-8f1902bba525"
      },
      "outputs": [
        {
          "output_type": "stream",
          "name": "stdout",
          "text": [
            "a= [2, 3, 4, 5, 6]\n",
            "rev_a = [6, 5, 4, 3, 2]\n"
          ]
        }
      ],
      "source": [
        "a = [2, 3, 4, 5, 6]\n",
        "reversed_list = []\n",
        "\n",
        "print(\"a=\", a)\n",
        "\n",
        "for _ in range(len(a)):\n",
        "  reversed_list.append(a.pop())\n",
        "\n",
        "print(\"rev_a =\", reversed_list)"
      ]
    },
    {
      "cell_type": "code",
      "source": [
        "tup = (1, 2, 5, 4, 3, 2, 1, 4, 7, 8, 9, 9, 3, 7, 3)\n",
        "print(\"주어진 튜플은: \", tup)\n",
        "temp = sorted(list(tup))\n",
        "\n",
        "max_count = 1\n",
        "count = 1\n",
        "cur_value = max_value = temp[0]\n",
        "\n",
        "for i in range(1, len(temp)):\n",
        "  if temp[i] is cur_value:\n",
        "      count += 1\n",
        "      if count >= max_count:\n",
        "       max_count = count\n",
        "       max_value = cur_value\n",
        "  else:\n",
        "       cur_value = temp[i]\n",
        "       count = 1\n",
        "\n",
        "print(\"가장 많이 나타나는 원소는: \", max_value)"
      ],
      "metadata": {
        "colab": {
          "base_uri": "https://localhost:8080/"
        },
        "id": "T4qVEDTENT-a",
        "outputId": "4a0457e5-203c-4a82-c97a-7cb17ea49833"
      },
      "execution_count": null,
      "outputs": [
        {
          "output_type": "stream",
          "name": "stdout",
          "text": [
            "주어진 튜플은:  (1, 2, 5, 4, 3, 2, 1, 4, 7, 8, 9, 9, 3, 7, 3)\n",
            "가장 많이 나타나는 원소는:  3\n"
          ]
        }
      ]
    },
    {
      "cell_type": "code",
      "source": [
        "tup = (1, 2, 5, 4, 3, 2, 9, 4, 7, 8, 9, 9, 3, 7, 3)\n",
        "print(\"주어진 튜플은: \", tup)\n",
        "temp = sorted(list(tup))\n",
        "\n",
        "max_count = 1\n",
        "count = 1\n",
        "cur_value = max_value = temp[0]\n",
        "\n",
        "for i in range(1, len(temp)):\n",
        "  if temp[i] is cur_value:\n",
        "      count += 1\n",
        "      if count >= max_count:\n",
        "       max_count = count\n",
        "       max_value = cur_value\n",
        "  else:\n",
        "       cur_value = temp[i]\n",
        "       count = 1\n",
        "\n",
        "if count >= max_count:\n",
        "  max_value = max(max_value, cur_value)\n",
        "\n",
        "print(\"가장 많이 나타나는 원소는: \", max_value)"
      ],
      "metadata": {
        "colab": {
          "base_uri": "https://localhost:8080/"
        },
        "id": "YDlwf9lDTWJD",
        "outputId": "e7b27876-9d27-4bd7-9765-a4ee61e0278f"
      },
      "execution_count": null,
      "outputs": [
        {
          "output_type": "stream",
          "name": "stdout",
          "text": [
            "주어진 튜플은:  (1, 2, 5, 4, 3, 2, 9, 4, 7, 8, 9, 9, 3, 7, 3)\n",
            "가장 많이 나타나는 원소는:  9\n"
          ]
        }
      ]
    },
    {
      "cell_type": "code",
      "source": [
        "menu = {\n",
        "    \"Americano\": 3000,\n",
        "    \"Ice Americano\": 3500,\n",
        "    \"Cappuccino\": 4000,\n",
        "    \"Caffe Latte\": 4500,\n",
        "    \"Espresso\": 3600\n",
        "}\n",
        "\n",
        "for key, value in menu.items():\n",
        "  print(\"{:16s} 가격: {:,}원\".format(key, value))"
      ],
      "metadata": {
        "colab": {
          "base_uri": "https://localhost:8080/"
        },
        "id": "ZaI4-jVwUD_b",
        "outputId": "fef5e70b-b8d8-4276-aca0-17d87c61b46d"
      },
      "execution_count": null,
      "outputs": [
        {
          "output_type": "stream",
          "name": "stdout",
          "text": [
            "Americano        가격: 3,000원\n",
            "Ice Americano    가격: 3,500원\n",
            "Cappuccino       가격: 4,000원\n",
            "Caffe Latte      가격: 4,500원\n",
            "Espresso         가격: 3,600원\n"
          ]
        }
      ]
    },
    {
      "cell_type": "code",
      "source": [
        "menu = {\n",
        "    \"Americano\": 3000,\n",
        "    \"Ice Americano\": 3500,\n",
        "    \"Cappuccino\": 4000,\n",
        "    \"Caffe Latte\": 4500,\n",
        "    \"Espresso\": 3600\n",
        "}\n",
        "\n",
        "for key, value in menu.items():\n",
        "  print(\"{:16s} 가격: {:,}원\".format(key, value))\n",
        "\n",
        "choice = input(\"위의 메뉴 중 하나를 선택하세요: \")\n",
        "\n",
        "if choice in menu.keys():\n",
        "  print(\"{}는 {:,}원 입니다. 결제를 부탁합니다.\".format(choice, menu[choice]))\n",
        "else:\n",
        "  print(\"미안합니다. {}는 메뉴에 없습니다.\".format(choice))"
      ],
      "metadata": {
        "colab": {
          "base_uri": "https://localhost:8080/"
        },
        "id": "31fQP-EPVvsc",
        "outputId": "9814fb28-992b-4861-ff1d-112e096805a1"
      },
      "execution_count": null,
      "outputs": [
        {
          "output_type": "stream",
          "name": "stdout",
          "text": [
            "Americano        가격: 3,000원\n",
            "Ice Americano    가격: 3,500원\n",
            "Cappuccino       가격: 4,000원\n",
            "Caffe Latte      가격: 4,500원\n",
            "Espresso         가격: 3,600원\n",
            "위의 메뉴 중 하나를 선택하세요: Espresso\n",
            "Espresso는 3,600원 입니다. 결제를 부탁합니다.\n"
          ]
        }
      ]
    },
    {
      "cell_type": "code",
      "source": [
        "menu = {\n",
        "    \"Americano\": 3000,\n",
        "    \"Ice Americano\": 3500,\n",
        "    \"Cappuccino\": 4000,\n",
        "    \"Caffe Latte\": 4500,\n",
        "    \"Espresso\": 3600\n",
        "}\n",
        "\n",
        "for key, value in menu.items():\n",
        "  print(\"{:16s} 가격: {:,}원\".format(key, value))\n",
        "\n",
        "choice = input(\"위의 메뉴 중 하나를 선택하세요: \")\n",
        "\n",
        "if choice in menu.keys():\n",
        "  print(\"{}는 {:,}원 입니다. 결제를 부탁합니다.\".format(choice, menu[choice]))\n",
        "else:\n",
        "  print(\"미안합니다. {}는 메뉴에 없습니다.\".format(choice))"
      ],
      "metadata": {
        "colab": {
          "base_uri": "https://localhost:8080/"
        },
        "id": "zDU8vh8LWd7M",
        "outputId": "3c38fc9a-1843-46b4-a529-2a23bddef68c"
      },
      "execution_count": null,
      "outputs": [
        {
          "output_type": "stream",
          "name": "stdout",
          "text": [
            "Americano        가격: 3,000원\n",
            "Ice Americano    가격: 3,500원\n",
            "Cappuccino       가격: 4,000원\n",
            "Caffe Latte      가격: 4,500원\n",
            "Espresso         가격: 3,600원\n",
            "위의 메뉴 중 하나를 선택하세요: Fan cake\n",
            "미안합니다. Fan cake는 메뉴에 없습니다.\n"
          ]
        }
      ]
    }
  ]
}